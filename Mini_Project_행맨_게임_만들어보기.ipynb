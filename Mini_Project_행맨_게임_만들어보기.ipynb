{
  "cells": [
    {
      "cell_type": "markdown",
      "metadata": {
        "id": "view-in-github",
        "colab_type": "text"
      },
      "source": [
        "<a href=\"https://colab.research.google.com/github/hwangjaeil/ozcoding/blob/master/Mini_Project_%E1%84%92%E1%85%A2%E1%86%BC%E1%84%86%E1%85%A2%E1%86%AB_%E1%84%80%E1%85%A6%E1%84%8B%E1%85%B5%E1%86%B7_%E1%84%86%E1%85%A1%E1%86%AB%E1%84%83%E1%85%B3%E1%86%AF%E1%84%8B%E1%85%A5%E1%84%87%E1%85%A9%E1%84%80%E1%85%B5.ipynb\" target=\"_parent\"><img src=\"https://colab.research.google.com/assets/colab-badge.svg\" alt=\"Open In Colab\"/></a>"
      ]
    },
    {
      "cell_type": "markdown",
      "metadata": {
        "id": "MoWlK0jinrpN"
      },
      "source": [
        "\n",
        "## Mini project [행맨 게임 제작]\n",
        "\n",
        "안녕하세요.\n",
        "수강생 여러분~! Chapter17 ~ 20 수업은 잘 들으셨나요?\n",
        "\n",
        "여러분의 모든 역량을 총 동원해 문제를 풀어주셨합니다.\n",
        "\n",
        "\n",
        "\n",
        "#### 과제 설명\n",
        "\n",
        "이번 개발 주제는 '행맨' 게임이구요.\n",
        "\n",
        "행맨 게임은 아주 유명한 단어 퀴즈 프로그램이예요\n",
        "\n",
        "어떤 단어가 주어지면 그 단어의 길이만큼 빈 칸(밑줄) 이 주어지고\n",
        "플레이어는 알파벳을 하나씩 얘기하면서 단어를 추측해요!\n",
        "\n",
        "10번만에 맞히지 못하면 게임이 끝납니다. 🥲\n",
        "\n"
      ]
    },
    {
      "cell_type": "markdown",
      "metadata": {
        "id": "TQ0_AReItZ4z"
      },
      "source": [
        "#### 예시를 들어볼께요!!\n",
        "\n",
        "만약 E 가 단어에 포함돼있다면, 해당하는 위치에 E 를 표시해줍니다\n",
        "\n",
        "_ _ _ _ E E\n",
        "이렇게 되겠네요.\n",
        "\n",
        "이번에는 A를 해볼께요\n",
        "A 는 포함되지 않으므로 기회가 줄어들고 지금까지 맞힌 내용 그대로 출력합니다.\n",
        "\n",
        "_ _ _ _ E E\n",
        "변화가 없지요.\n",
        "\n",
        "이번에는 C 를 해봅시다.\n",
        "\n",
        "그럼\n",
        "C _ _ _ E E\n",
        "\n",
        "다음에는 F 를\n",
        "C _ F F E E\n",
        "\n",
        "마지막으로 O 를 해보면\n",
        "C O F F E E 로 게임은 성공으로 끝나게 됩니다."
      ]
    },
    {
      "cell_type": "markdown",
      "metadata": {
        "id": "eAI1BLDfuoNp"
      },
      "source": [
        "##본격적인 행맨 게임 규칙 설명\n",
        "\n",
        "- words 리스트에 추가된 단어들을 사용해주세요\n",
        "  - words = [\"apple\", \"banana\", \"orange\", \"grape\", \"lemon\"]\n",
        "\n",
        "- 단어의 길이에 맞게 밑줄을 출력해주세요  \n",
        "  (예)banana의 경우 _ _ _ _ _ _\n",
        "\n",
        "- 사용자부터 1글자씩 입력을 받되,\n",
        "   - 단어에 입력값이 포함되면 \"단어를 맞추셨군요. 더 힘내봐요\"라고 출력해주세요\"\n",
        "   - 단어에 입력값이 포함되어 있지 않다면 \"틀렸습니다. 남은 시도 횟수 \"란 메시지와 함꼐 남은 횟수를 출력해주세요\n",
        "\n",
        "- 매번 입력을 받을 때마다 현재까지 맞힌 글자들 표시(맞히면 글자는 밑줄 출력)\n",
        "    - 예) a 입력 시 : a _ _ _ _\n",
        "          p 입력 시 : a p p _ _\n",
        "          c 입력 시 : a p p _ _\n",
        "\n",
        "- 모든 단어를 맞췄을 경우 \"축하합니다! 단어를 맞추셨습니다\"와 시도 횟수를 출력해주세요\n",
        "\n",
        "\n",
        "행맨은 정말 유명 게임으로 찾아볼 수 있는 자료들이 많습니다.   \n",
        "문제가 어려우신 경우 구글링 통해 문제를 해결해보세요.  "
      ]
    },
    {
      "cell_type": "code",
      "execution_count": null,
      "metadata": {
        "id": "SlxmsiBtnqdd",
        "colab": {
          "base_uri": "https://localhost:8080/"
        },
        "outputId": "6efd14b4-be63-4dcd-baca-fd2b1895bb9c"
      },
      "outputs": [
        {
          "output_type": "stream",
          "name": "stdout",
          "text": [
            "guess meㅁ\n",
            "틀렸습니다. 남은 시도 횟수 : 9\n",
            "guess mea\n",
            "_ _ a _ _\n",
            "단어를 맞추셨군요. 더 힘내봐요\n",
            "guess meo\n",
            "틀렸습니다. 남은 시도 횟수 : 7\n",
            "guess men\n",
            "틀렸습니다. 남은 시도 횟수 : 6\n",
            "guess meg\n",
            "g _ a _ _\n",
            "단어를 맞추셨군요. 더 힘내봐요\n",
            "guess mer\n",
            "g r a _ _\n",
            "단어를 맞추셨군요. 더 힘내봐요\n",
            "guess mep\n",
            "g r a p _\n",
            "단어를 맞추셨군요. 더 힘내봐요\n",
            "guess mea\n",
            "g r a p _\n",
            "단어를 맞추셨군요. 더 힘내봐요\n",
            "guess mez\n",
            "틀렸습니다. 남은 시도 횟수 : 1\n",
            "guess mee\n",
            "g r a p e\n",
            "축하합니다! 단어를 맞추셨습니다. 총 시도횟수 : 10\n"
          ]
        }
      ],
      "source": [
        "words = [\"apple\", \"banana\", \"orange\", \"grape\", \"lemon\"]\n",
        "import random\n",
        "word=words[random.randrange(len(words))]\n",
        "answer=(\"_ \"*len(word))[0:(len(word)*2-1)]\n",
        "answer=list(answer)\n",
        "count=0\n",
        "while True:\n",
        "    a=input(\"guess me\")\n",
        "    if a==\"exit\":\n",
        "        break\n",
        "    elif count==10 :\n",
        "        break\n",
        "    elif a in word:\n",
        "        count+=1\n",
        "        for index, item in enumerate(word):\n",
        "            if a==item:\n",
        "                answer[index*2]=a\n",
        "        if \"_\" in answer:\n",
        "            print(''.join(answer))\n",
        "            print(\"단어를 맞추셨군요. 거의 다 왔어요! \")\n",
        "        else :\n",
        "            print(''.join(answer))\n",
        "            print(f\"축하합니다! 단어를 맞추셨습니다. 총 시도횟수 : {count}\")\n",
        "            break\n",
        "    else:\n",
        "        count+=1\n",
        "        print(f\"틀렸습니다. 남은 시도 횟수 : {10-count}\")\n",
        "\n"
      ]
    }
  ],
  "metadata": {
    "colab": {
      "provenance": [],
      "include_colab_link": true
    },
    "kernelspec": {
      "display_name": "Python 3",
      "name": "python3"
    },
    "language_info": {
      "name": "python"
    }
  },
  "nbformat": 4,
  "nbformat_minor": 0
}