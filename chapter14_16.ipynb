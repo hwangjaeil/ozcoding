{
  "nbformat": 4,
  "nbformat_minor": 0,
  "metadata": {
    "colab": {
      "provenance": [],
      "authorship_tag": "ABX9TyMiJJBt6vncwRg5q70LhUig",
      "include_colab_link": true
    },
    "kernelspec": {
      "name": "python3",
      "display_name": "Python 3"
    },
    "language_info": {
      "name": "python"
    }
  },
  "cells": [
    {
      "cell_type": "markdown",
      "metadata": {
        "id": "view-in-github",
        "colab_type": "text"
      },
      "source": [
        "<a href=\"https://colab.research.google.com/github/hwangjaeil/ozcoding/blob/master/chapter14_16.ipynb\" target=\"_parent\"><img src=\"https://colab.research.google.com/assets/colab-badge.svg\" alt=\"Open In Colab\"/></a>"
      ]
    },
    {
      "cell_type": "markdown",
      "source": [
        "1. if문이란?\n",
        "* 특정 조건일 때 코드를 실행하는 문법\n",
        "2. if문 문법과 주의사항 (콜론, 들여쓰기)\n",
        "3. if문의 흐름(작동원리)\n",
        "* 코드는 위에 아래 순서대로 작동합니다.\n",
        "\n"
      ],
      "metadata": {
        "id": "Mt0Tn2k6RbF3"
      }
    },
    {
      "cell_type": "code",
      "source": [
        "# if문 문법과 주의사항(콜론, 들여쓰기)\n",
        "개수=int(input(\"붕어빵 몇개 사실껀가요?\"))\n",
        "if 개수>3:\n",
        "    print(\"개당 1800원 입니다.\")"
      ],
      "metadata": {
        "colab": {
          "base_uri": "https://localhost:8080/"
        },
        "id": "aOPSj7WbSE5C",
        "outputId": "5b31e79d-6331-46cb-852c-7b223efa8a96"
      },
      "execution_count": 1,
      "outputs": [
        {
          "output_type": "stream",
          "name": "stdout",
          "text": [
            "붕어빵 몇개 사실껀가요?4\n",
            "개당 1800원 입니다.\n"
          ]
        }
      ]
    },
    {
      "cell_type": "code",
      "source": [
        "# if문의 흐름\n",
        "\n",
        "\n",
        "개수 = int(input(\"붕어빵 몇개 사실껀가요?\"))\n",
        "\n",
        "if 개수>3:\n",
        "  print(\"개당 1800원 입니다.\")\n",
        "if 개수<=3:\n",
        "  print(\"개당 2000원 입니다.\")"
      ],
      "metadata": {
        "colab": {
          "base_uri": "https://localhost:8080/"
        },
        "id": "DC2c9tEASh8C",
        "outputId": "7f7a719e-ca5a-4fae-f5eb-1c5a95f320a3"
      },
      "execution_count": 2,
      "outputs": [
        {
          "output_type": "stream",
          "name": "stdout",
          "text": [
            "붕어빵 몇개 사실껀가요?2\n",
            "개당 2000원 입니다.\n"
          ]
        }
      ]
    },
    {
      "cell_type": "code",
      "source": [
        "#4. if중첩문\n",
        "\n",
        "의문의_숫자 = 10\n",
        "\n",
        "if 의문의_숫자 >5 :\n",
        "  if 의문의_숫자 < 15:\n",
        "    print(\"의문의 숫자는 5보다 크고 15보다 작습니다.\")"
      ],
      "metadata": {
        "colab": {
          "base_uri": "https://localhost:8080/"
        },
        "id": "ZfIckj8PTPBc",
        "outputId": "728b1fd4-852e-4a52-a6b7-5fb848f858d7"
      },
      "execution_count": 4,
      "outputs": [
        {
          "output_type": "stream",
          "name": "stdout",
          "text": [
            "의문의 숫자는 5보다 크고 15보다 작습니다.\n"
          ]
        }
      ]
    },
    {
      "cell_type": "code",
      "source": [
        "#5. if ~ else 문법과 주의사항(콜론, 들여쓰기)\n",
        "# True일 때는 if문 안에 작성된 코드가 실행됩니다.\n",
        "# False일 때는 if문 안에 작성된 코드가 실행됩니다.\n",
        "개수 = int(input(\"붕어빵 몇개 사실껀가요?\"))\n",
        "\n",
        "if 개수>3:\n",
        "  print(\"개당 1800원 입니다.\")\n",
        "else :\n",
        "  print(\"개당 2000원 입니다.\")"
      ],
      "metadata": {
        "colab": {
          "base_uri": "https://localhost:8080/"
        },
        "id": "aqhmtcQ6TghF",
        "outputId": "bed15f90-41e8-4f7b-b621-9a4333ffe23d"
      },
      "execution_count": 6,
      "outputs": [
        {
          "output_type": "stream",
          "name": "stdout",
          "text": [
            "붕어빵 몇개 사실껀가요?2\n",
            "개당 2000원 입니다.\n"
          ]
        }
      ]
    },
    {
      "cell_type": "code",
      "source": [
        "#6. if ~ else문 흐름 (작동원리)\n",
        "개수 = int(input(\"붕어빵 몇개 사실껀가요?\"))\n",
        "\n",
        "if 개수>3:\n",
        "  print(\"개당 1800원 입니다.\")\n",
        "else :\n",
        "  print(\"개당 2000원 입니다.\")"
      ],
      "metadata": {
        "id": "Eo7e1NEHUhCB"
      },
      "execution_count": null,
      "outputs": []
    },
    {
      "cell_type": "code",
      "source": [
        "#7. 조건문 조건(True, False)\n",
        "#True\n",
        "if True:\n",
        "  print(True)\n",
        "else:\n",
        "  print(False)\n",
        "\n",
        "\n",
        "#False\n",
        "if False:\n",
        "  print(True)\n",
        "else:\n",
        "  print(False)\n",
        "\n",
        "#None\n",
        "if None:\n",
        "  print(True)\n",
        "else:\n",
        "  print(False)\n",
        "\n",
        "# 0\n",
        "if 0:\n",
        "  print(True)\n",
        "else:\n",
        "  print(False)\n",
        "\n",
        "# 1\n",
        "if 1:\n",
        "  print(True)\n",
        "else:\n",
        "  print(False)\n",
        "\n",
        "# 1.1\n",
        "if 1.1:\n",
        "  print(True)\n",
        "else:\n",
        "  print(False)\n",
        "\n",
        "#'hello'\n",
        "if 'hello':\n",
        "  print(True)\n",
        "else:\n",
        "  print(False)\n",
        "\n",
        "\n",
        "# ''\n",
        "if '':\n",
        "  print(True)\n",
        "else:\n",
        "  print(False)\n",
        "\n",
        "# not\n",
        "if not True:\n",
        "  print(True)\n",
        "else:\n",
        "  print(False)\n",
        "\n",
        "if not '':\n",
        "  print(True)\n",
        "else:\n",
        "  print(False)"
      ],
      "metadata": {
        "colab": {
          "base_uri": "https://localhost:8080/"
        },
        "id": "xRS0wq9lUpKE",
        "outputId": "0d5d0f1c-4d43-406b-b174-b231e3806cad"
      },
      "execution_count": 17,
      "outputs": [
        {
          "output_type": "stream",
          "name": "stdout",
          "text": [
            "True\n",
            "False\n",
            "False\n",
            "False\n",
            "True\n",
            "True\n",
            "True\n",
            "False\n",
            "False\n",
            "True\n"
          ]
        }
      ]
    },
    {
      "cell_type": "code",
      "source": [
        "#8. 조건식 여러개 설정하기\n",
        "\n",
        "a,b = 10,30\n",
        "\n",
        "if a==10 and b==30:\n",
        "  print(\"동일합니다.\")\n",
        "else:\n",
        "  print(\"동일하지 않습니다.\")\n",
        "\n",
        "\n",
        "if a==10 or b==30:\n",
        "  print(\"동일합니다.\")\n",
        "else:\n",
        "  print(\"동일하지 않습니다.\")\n",
        "\n",
        "if a>=10 and a<20:\n",
        "  print(\"10보다 크고 20보다 작습니다.\")\n",
        "\n",
        "if 10<=a and a<20:\n",
        "  print(\"10보다 크고 20보다 작습니다.\")"
      ],
      "metadata": {
        "colab": {
          "base_uri": "https://localhost:8080/"
        },
        "id": "_Hy8zKRMV0J6",
        "outputId": "149d3008-4ad6-475c-ebf0-7d59ae14dd33"
      },
      "execution_count": 21,
      "outputs": [
        {
          "output_type": "stream",
          "name": "stdout",
          "text": [
            "동일합니다.\n",
            "동일합니다.\n",
            "10보다 크고 20보다 작습니다.\n",
            "10보다 크고 20보다 작습니다.\n"
          ]
        }
      ]
    },
    {
      "cell_type": "code",
      "source": [
        "#9. elif ~if문\n",
        "\n",
        "맛 = input(\"붕어빵 맛을 골라주세요.(팥, 슈크립, 잡채)\")\n",
        "\n",
        "if 맛==\"팥\":\n",
        "  print(f'{맛}을 선택하셨습니다.')\n",
        "\n",
        "elif 맛==\"슈크림\":\n",
        "  print(f'{맛}을 선택하셨습니다.')\n",
        "\n",
        "else:\n",
        "  print(f'{맛}을 선택하셨습니다.')"
      ],
      "metadata": {
        "colab": {
          "base_uri": "https://localhost:8080/"
        },
        "id": "zpbTBOkvXD4k",
        "outputId": "6c0dd33a-670f-49fd-d4c5-34be9016fc00"
      },
      "execution_count": 23,
      "outputs": [
        {
          "output_type": "stream",
          "name": "stdout",
          "text": [
            "붕어빵 맛을 골라주세요.(팥, 슈크립, 잡채)잡채\n",
            "잡채을 선택하셨습니다.\n"
          ]
        }
      ]
    },
    {
      "cell_type": "code",
      "source": [
        "#10. 예제로 if문 익혀보기\n",
        "#문제: 단어 a의 가운데 글자를 반환하는 코드\n",
        "#조건: 단어의 길이가 짝수라면 가운데 두 글자를 출력하면 됩니다.\n",
        "\n",
        "#입력값1: \"abcde\" => c\n",
        "#입력값2: \"qwer\" => we\n",
        "\n",
        "a=input()\n",
        "가운데_인덱스 = int(len(a)/2)\n",
        "\n",
        "if len(a)%2!=0:\n",
        "  print(a[가운데_인덱스])\n",
        "else:\n",
        "  print(a[가운데_인덱스-1: 가운데_인덱스+1])"
      ],
      "metadata": {
        "colab": {
          "base_uri": "https://localhost:8080/"
        },
        "id": "YXaEgCkRXiDC",
        "outputId": "521d6664-4738-4c27-bfac-024397d701d2"
      },
      "execution_count": 28,
      "outputs": [
        {
          "output_type": "stream",
          "name": "stdout",
          "text": [
            "qwer\n",
            "we\n"
          ]
        }
      ]
    },
    {
      "cell_type": "code",
      "source": [],
      "metadata": {
        "id": "ksE54C8ZYGv_"
      },
      "execution_count": null,
      "outputs": []
    }
  ]
}