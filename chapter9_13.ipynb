{
  "nbformat": 4,
  "nbformat_minor": 0,
  "metadata": {
    "colab": {
      "provenance": [],
      "authorship_tag": "ABX9TyPdxMKX4p8LosrwTMT7U5+S",
      "include_colab_link": true
    },
    "kernelspec": {
      "name": "python3",
      "display_name": "Python 3"
    },
    "language_info": {
      "name": "python"
    }
  },
  "cells": [
    {
      "cell_type": "markdown",
      "metadata": {
        "id": "view-in-github",
        "colab_type": "text"
      },
      "source": [
        "<a href=\"https://colab.research.google.com/github/hwangjaeil/ozcoding/blob/master/chapter9_13.ipynb\" target=\"_parent\"><img src=\"https://colab.research.google.com/assets/colab-badge.svg\" alt=\"Open In Colab\"/></a>"
      ]
    },
    {
      "cell_type": "markdown",
      "source": [
        "## 입력과 출력\n",
        "\n",
        "* 입력 : input()\n",
        "* 출력 : print()\n",
        "\n",
        "### 함수와 메서드\n",
        ">함수: 어디에 속해있지 않고 단독 모듈이라 함수를 그냥 호출하여 사용이 가능합니다. 예)print(), input()\n",
        "https://docs.pythhon.org/ko/3/library/functions.html\n",
        "\n",
        ">메소드: 함수의 클래스 안에 속해 있고 클래스의 멤버 변수들을 이용해서 구현된 것\n",
        "예) \"까먹으신건가요?\".count(\"까\") /\"까먹으신건가요?\".index(\"까\")"
      ],
      "metadata": {
        "id": "E-UuKueXna41"
      }
    },
    {
      "cell_type": "code",
      "execution_count": null,
      "metadata": {
        "colab": {
          "base_uri": "https://localhost:8080/"
        },
        "id": "UxlfkATml_7f",
        "outputId": "56ec497c-cd74-48b7-c110-acafff5a1079"
      },
      "outputs": [
        {
          "output_type": "execute_result",
          "data": {
            "text/plain": [
              "1"
            ]
          },
          "metadata": {},
          "execution_count": 1
        }
      ],
      "source": [
        "\"까먹으신건가요?\".count(\"까\")"
      ]
    },
    {
      "cell_type": "code",
      "source": [
        "\"까먹으신건가요?\".index(\"까\")"
      ],
      "metadata": {
        "colab": {
          "base_uri": "https://localhost:8080/"
        },
        "id": "mxqFSHOgoJ79",
        "outputId": "38aff4a4-3da4-40c4-fb76-c64b8c5fa277"
      },
      "execution_count": null,
      "outputs": [
        {
          "output_type": "execute_result",
          "data": {
            "text/plain": [
              "0"
            ]
          },
          "metadata": {},
          "execution_count": 2
        }
      ]
    },
    {
      "cell_type": "code",
      "source": [
        "숫자, 문자 = 5, \"5\"\n",
        "print(숫자, 문자)"
      ],
      "metadata": {
        "colab": {
          "base_uri": "https://localhost:8080/"
        },
        "id": "HZNmyzqmoQ3p",
        "outputId": "5c712007-c6ec-4dde-ac22-cbf1d1c77b9b"
      },
      "execution_count": null,
      "outputs": [
        {
          "output_type": "stream",
          "name": "stdout",
          "text": [
            "5 5\n"
          ]
        }
      ]
    },
    {
      "cell_type": "code",
      "source": [
        "인사=input(\"(우리학교 최고 존날남)아... 안녕\")\n",
        "print(인사 + \"눈부시게\")"
      ],
      "metadata": {
        "colab": {
          "base_uri": "https://localhost:8080/"
        },
        "id": "0xEMI4DHoWVx",
        "outputId": "e84aa176-5901-406f-f3ba-f22541762d76"
      },
      "execution_count": null,
      "outputs": [
        {
          "output_type": "stream",
          "name": "stdout",
          "text": [
            "(우리학교 최고 존날남)아... 안녕뭘봐\n",
            "뭘봐눈부시게\n"
          ]
        }
      ]
    },
    {
      "cell_type": "code",
      "source": [
        "#int(), float(), str(), bool()\n",
        "\n",
        "정수=int(input())\n",
        "print(정수, type(정수))\n",
        "\n",
        "실수=float(input())\n",
        "print(실수, type(실수))\n"
      ],
      "metadata": {
        "colab": {
          "base_uri": "https://localhost:8080/"
        },
        "id": "t9sf0t_kyY05",
        "outputId": "876d00cc-d005-4b9d-c37c-2800131f64bc"
      },
      "execution_count": null,
      "outputs": [
        {
          "output_type": "stream",
          "name": "stdout",
          "text": [
            "5\n",
            "5 <class 'int'>\n",
            "5\n",
            "5.0 <class 'float'>\n"
          ]
        }
      ]
    },
    {
      "cell_type": "markdown",
      "source": [
        "그 외 입력값의 형변환이 가능한 종류\n",
        "*tuple()\n",
        "*list()\n",
        "*dict()\n",
        "*set()"
      ],
      "metadata": {
        "id": "gY_uJkfZzRqP"
      }
    },
    {
      "cell_type": "code",
      "source": [
        "넌센스, 정답 = input().split(\",\")\n",
        "print(f'넌센스 퀴즈: {넌센스}')\n",
        "print(f'정답: {정답}')"
      ],
      "metadata": {
        "colab": {
          "base_uri": "https://localhost:8080/"
        },
        "id": "devfXsOfzaSW",
        "outputId": "d9d4a0f3-f7ae-4fe6-ed73-17a35596c27a"
      },
      "execution_count": null,
      "outputs": [
        {
          "output_type": "stream",
          "name": "stdout",
          "text": [
            "스페인에서 에스파를 만나면? , 에스파냐\n",
            "넌센스 퀴즈: 스페인에서 에스파를 만나면? \n",
            "정답:  에스파냐\n"
          ]
        }
      ]
    },
    {
      "cell_type": "code",
      "source": [
        "#시퀀스 자료형에 다 지원되는 메소드\n",
        "번호1, 번호2, 번호3, 번호4 = input().split(\",\")\n",
        "\n",
        "번호1=int(번호1)\n",
        "번호2=int(번호2)\n",
        "번호3=int(번호3)\n",
        "번호4=int(번호4)\n",
        "\n",
        "print(type(번호1),번호2,번호3,번호4)\n"
      ],
      "metadata": {
        "colab": {
          "base_uri": "https://localhost:8080/"
        },
        "id": "wQAmvlo30YKl",
        "outputId": "a8da0edb-4b39-42dc-f910-acaa60019bb1"
      },
      "execution_count": null,
      "outputs": [
        {
          "output_type": "stream",
          "name": "stdout",
          "text": [
            "123,123,123,123\n",
            "<class 'int'> 123 123 123\n"
          ]
        }
      ]
    },
    {
      "cell_type": "code",
      "source": [
        "#map()\n",
        "번호1,번호2,번호3,번호4=map(int, input().split(\",\"))\n",
        "print(type(번호1),번호2,번호3,번호4)\n"
      ],
      "metadata": {
        "colab": {
          "base_uri": "https://localhost:8080/"
        },
        "id": "HaiH4pRB00R5",
        "outputId": "584408a4-4b6e-48a0-e4ab-1a733ff3d927"
      },
      "execution_count": null,
      "outputs": [
        {
          "output_type": "stream",
          "name": "stdout",
          "text": [
            "123,12345,24324,234\n",
            "<class 'int'> 12345 24324 234\n"
          ]
        }
      ]
    },
    {
      "cell_type": "code",
      "source": [
        "#레거시: 누군가 남겨두고간 코드\n",
        "#리팩토링: 결과의 변경없이 코드의 구조를 재조정하는 것\n",
        "\n",
        "fish__p, fish__s, fish__j =\"붕어빵(팥)\", \"붕어빵(슈크림)\", \"붕어빵(잡채)\"\n",
        "fish__p, fish__s, fish__j = input('붕어빵(팥), 붕어빵(슈크림), 붕어빵(잡채)를 순서대로 입력하고 꼭 쉼표를 입력하고 안사는 붕어빵에는 0을 넣어줘').split(\",\")\n",
        "fish__p__sell, fish__s__sell, fish__j__sell = 2000, 2500, 3000\n",
        "order_s, order_j = 2, 3\n",
        "order_s__pay, order_j__pay= fish__s__sell*2, fish__j__sell*3\n",
        "total=order_s+order_j\n",
        "total_pay= order_s__pay + order_j__pay\n",
        "print(f'주문이 완료되었습니다. {fish__s}{order_s}개, {fish__j}{order_j}개 총 {total}개 결제 금액은 {total_pay}원 입니다.')"
      ],
      "metadata": {
        "colab": {
          "base_uri": "https://localhost:8080/"
        },
        "id": "7_pv5i4Z1LlS",
        "outputId": "3313db97-7c07-44ea-b0e7-970c1b93811a"
      },
      "execution_count": null,
      "outputs": [
        {
          "output_type": "stream",
          "name": "stdout",
          "text": [
            "붕어빵(팥), 붕어빵(슈크림), 붕어빵(잡채)를 순서대로 입력하고 꼭 쉼표를 입력하고 안사는 붕어빵에는 0을 넣어줘0,슈크림,잡채\n",
            "주문이 완료되었습니다. 슈크림2개, 잡채3개 총 5개 결제 금액은 14000원 입니다.\n"
          ]
        }
      ]
    },
    {
      "cell_type": "code",
      "source": [
        "#print() 함수에 기능을 이용해보겠습니다.\n",
        "print(\"초코칩\", \"민트\", \"샷추가\", \"휘핑크림\")\n",
        "print(\"초코칩\", \"민트\", \"샷추가\", \"휘핑크림\", sep='/')\n",
        "print(\"초코칩\", \"민트\", \"샷추가\", \"휘핑크림\", sep=':')\n",
        "print(\"초코칩\", \"민트\", \"샷추가\", \"휘핑크림\", sep='   ')\n",
        "print(\"초코칩\", \"민트\", \"샷추가\", \"휘핑크림\", sep='\\n')"
      ],
      "metadata": {
        "colab": {
          "base_uri": "https://localhost:8080/"
        },
        "id": "KS2KhvUY3QNZ",
        "outputId": "e06f3438-31be-4ec0-9bf2-ff9084a96978"
      },
      "execution_count": null,
      "outputs": [
        {
          "output_type": "stream",
          "name": "stdout",
          "text": [
            "초코칩 민트 샷추가 휘핑크림\n",
            "초코칩/민트/샷추가/휘핑크림\n",
            "초코칩:민트:샷추가:휘핑크림\n",
            "초코칩   민트   샷추가   휘핑크림\n",
            "초코칩\n",
            "민트\n",
            "샷추가\n",
            "휘핑크림\n"
          ]
        }
      ]
    },
    {
      "cell_type": "code",
      "source": [
        "#end\n",
        "print(\"초코칩\", \"민트\", \"샷추가\", \"휘핑크림\", end=' ')\n",
        "print(\"초코칩\", \"민트\", \"샷추가\", \"휘핑크림\", end=' ')\n",
        "print(\"초코칩\", \"민트\", \"샷추가\", \"휘핑크림\", end=' ')\n"
      ],
      "metadata": {
        "colab": {
          "base_uri": "https://localhost:8080/"
        },
        "id": "-pVjFZa35E93",
        "outputId": "561f5a40-0133-4c43-a837-b4ad9d625b79"
      },
      "execution_count": null,
      "outputs": [
        {
          "output_type": "stream",
          "name": "stdout",
          "text": [
            "초코칩 민트 샷추가 휘핑크림 초코칩 민트 샷추가 휘핑크림 초코칩 민트 샷추가 휘핑크림 "
          ]
        }
      ]
    },
    {
      "cell_type": "markdown",
      "source": [
        "###list\n",
        "*list란? 원소들이 연속적으로 저장되는 형태의 자료형을 말합니다.\n",
        "*시퀀스 자료형!!\n",
        " *str(정복), list(정복 예정), tuple, dict, set\n",
        "\n",
        "*만드는 방법은 쉬워 대괄호로 묶어주고, 값들은 콤마로 구분합니다."
      ],
      "metadata": {
        "id": "MHIl8OgX5cZz"
      }
    },
    {
      "cell_type": "code",
      "source": [
        "# 첫 리스트\n",
        "리스트=[]\n",
        "print(리스트)\n",
        "\n",
        "리스트=[23, \"이게 리스트다\", 3.23, True, False]\n",
        "print(리스트)"
      ],
      "metadata": {
        "colab": {
          "base_uri": "https://localhost:8080/"
        },
        "id": "deDkoNQt5t4n",
        "outputId": "a21730ba-6c99-4f75-9898-706dde9cc971"
      },
      "execution_count": null,
      "outputs": [
        {
          "output_type": "stream",
          "name": "stdout",
          "text": [
            "[]\n",
            "[23, '이게 리스트다', 3.23, True, False]\n"
          ]
        }
      ]
    },
    {
      "cell_type": "code",
      "source": [
        "# 리스트 다시 한 번 선언해보자!\n",
        "리스트=[\"이\",\"렇\",\"게\"]\n",
        "print(리스트)\n",
        "\n",
        "#range? 연속된 숫자를 생산하는 기능\n",
        "range(10)\n",
        "\n",
        "#list(range(시작, 끝))\n",
        "리스트_매직_들어간다 = list(range(0,20))\n",
        "print(리스트_매직_들어간다)"
      ],
      "metadata": {
        "colab": {
          "base_uri": "https://localhost:8080/"
        },
        "id": "Ct5Jyq6a6J6S",
        "outputId": "1b0630a3-3fba-4d67-ce61-64d267f18b13"
      },
      "execution_count": null,
      "outputs": [
        {
          "output_type": "stream",
          "name": "stdout",
          "text": [
            "['이', '렇', '게']\n",
            "[0, 1, 2, 3, 4, 5, 6, 7, 8, 9, 10, 11, 12, 13, 14, 15, 16, 17, 18, 19]\n"
          ]
        }
      ]
    },
    {
      "cell_type": "code",
      "source": [
        "#list(range(시작, 끝, 증가))\n",
        "리스트_매직2=list(range(0,20,2))\n",
        "print(리스트_매직2)\n",
        "\n",
        "리스트_매직3=list(range(20, 0,-2)) #반대로\n",
        "print(리스트_매직3)\n",
        "\n",
        "리스트_매직4=list(range(20,0))\n",
        "print(리스트_매직4)"
      ],
      "metadata": {
        "colab": {
          "base_uri": "https://localhost:8080/"
        },
        "id": "s2kEIdFT6vrM",
        "outputId": "a9420310-eac9-49c4-be3f-19dcfef10bb3"
      },
      "execution_count": null,
      "outputs": [
        {
          "output_type": "stream",
          "name": "stdout",
          "text": [
            "[0, 2, 4, 6, 8, 10, 12, 14, 16, 18]\n",
            "[20, 18, 16, 14, 12, 10, 8, 6, 4, 2]\n",
            "[]\n"
          ]
        }
      ]
    },
    {
      "cell_type": "code",
      "source": [
        "#끝나지 않는 리스트 매직\n",
        "# 리스트를 이용해 변수에 값 넣기\n",
        "a,b,c = [\"들\", \"어\", \"가\"]\n",
        "print(a,b,c)\n",
        "d,e,f=[7,7,8 ]\n",
        "print(d,e,f)\n",
        "\n",
        "지갑=[10000, 5000, 1000]\n",
        "만원, 오천원, 천원 = 지갑\n",
        "print(f'{만원} 2장, {오천원} 3장, {천원} 1장')"
      ],
      "metadata": {
        "colab": {
          "base_uri": "https://localhost:8080/"
        },
        "id": "C4Wv0d2P7bmF",
        "outputId": "1d3489d1-c1a3-448f-d2e8-dc184e699091"
      },
      "execution_count": null,
      "outputs": [
        {
          "output_type": "stream",
          "name": "stdout",
          "text": [
            "들 어 가\n",
            "7 7 8\n",
            "10000 2장, 5000 3장, 1000 1장\n"
          ]
        }
      ]
    },
    {
      "cell_type": "code",
      "source": [
        "# 리스트 패킹, 리스트 언패킹\n",
        "input().split()"
      ],
      "metadata": {
        "id": "5WdRoYLl76pW"
      },
      "execution_count": null,
      "outputs": []
    },
    {
      "cell_type": "code",
      "source": [
        "#슬라이싱\n",
        "\n",
        "로또=[3,5,15,33,41,44]\n",
        "#로또 변수에 있는 리스트의 인덱스 1번부터 2번까지의 값을 출력\n",
        "print(로또[1:3])\n",
        "#로또 변수의 마지막 위치 출력\n",
        "print(로또[-1])\n",
        "#반대로 출력\n",
        "print(로또[::-1])\n",
        "#로또 리스트안에 33이 있는지 확인\n",
        "print(33 in 로또)\n",
        "#로또 리스트를 로또2 리스트와 합치기\n",
        "로또2 = [2,12,15,24,33,39]\n",
        "print(로또 + 로또2)\n",
        "#range를 이용해서 1부터 10사이에 짝수만 들어있는 짝수(변수명) 리스트 만들기\n",
        "짝수 = list(range(2,12,2))\n",
        "print(짝수)\n",
        "#짝수 리스트에 들어있는 값을 2배 늘리고 다시 짝수 변수에 담기\n",
        "짝수 = 짝수 *2\n",
        "print(짝수)\n",
        "#짝수 리스트에 들어있는 요소의 개수\n",
        "print(len(짝수))\n",
        "#짝수 리스트에 3번째 인덱스 출력\n",
        "print(짝수[3])\n",
        "#len()함수를 이용해 인덱스 마지막 값 출력\n",
        "print(짝수[len(짝수)-1])"
      ],
      "metadata": {
        "colab": {
          "base_uri": "https://localhost:8080/"
        },
        "id": "JxCetbsL8DYQ",
        "outputId": "28ee0b62-e97c-4af5-b014-827728811efc"
      },
      "execution_count": null,
      "outputs": [
        {
          "output_type": "stream",
          "name": "stdout",
          "text": [
            "[5, 15]\n",
            "44\n",
            "[44, 41, 33, 15, 5, 3]\n",
            "True\n",
            "[3, 5, 15, 33, 41, 44, 2, 12, 15, 24, 33, 39]\n",
            "[2, 4, 6, 8, 10]\n",
            "[2, 4, 6, 8, 10, 2, 4, 6, 8, 10]\n",
            "10\n",
            "8\n",
            "10\n"
          ]
        }
      ]
    },
    {
      "cell_type": "code",
      "source": [
        "#list값 넣고, 바꾸고 , 지우고\n",
        "\n",
        "mzfood = [\"숙주\", \"분모자\", \"마라\", \"소시지\", \"소고기\", \"옥수수면\"]\n",
        "\n",
        "#값을 넣는 방법 2 가지 : append(): 마지막 요소에 값을 넣어, insert(): 원하는 곳에 값을 넣어요\n",
        "mzfood.append(\"고수\")\n",
        "print(mzfood)\n",
        "\n",
        "mzfood.insert(0, \"탕후루\")\n",
        "print(mzfood)\n",
        "\n",
        "#값 지우고\n",
        "del mzfood[-1]\n",
        "print(mzfood)\n",
        "\n",
        "del mzfood[0]\n",
        "print(mzfood)\n",
        "\n",
        "#값 바꾸고\n",
        "mzfood[4] =\"양고기\"\n",
        "print(mzfood)\n",
        "\n",
        "mzfood[-2] = \"닭고기\"\n",
        "print(mzfood)\n",
        "\n",
        "#문자열 시퀀스 아니냐 그럼 저거 다 될듯\n",
        "인사 = \"반가워\"\n",
        "인사[2] = \"웡\"\n",
        "print(인사)\n",
        "안됨\n"
      ],
      "metadata": {
        "colab": {
          "base_uri": "https://localhost:8080/",
          "height": 305
        },
        "id": "EQPcHcJb9tHW",
        "outputId": "f2192e57-ac33-4614-b1cb-6726543da727"
      },
      "execution_count": null,
      "outputs": [
        {
          "output_type": "stream",
          "name": "stdout",
          "text": [
            "['숙주', '분모자', '마라', '소시지', '소고기', '옥수수면', '고수']\n",
            "['탕후루', '숙주', '분모자', '마라', '소시지', '소고기', '옥수수면', '고수']\n",
            "['탕후루', '숙주', '분모자', '마라', '소시지', '소고기', '옥수수면']\n",
            "['숙주', '분모자', '마라', '소시지', '소고기', '옥수수면']\n",
            "['숙주', '분모자', '마라', '소시지', '양고기', '옥수수면']\n",
            "['숙주', '분모자', '마라', '소시지', '닭고기', '옥수수면']\n"
          ]
        },
        {
          "output_type": "error",
          "ename": "TypeError",
          "evalue": "'str' object does not support item assignment",
          "traceback": [
            "\u001b[0;31m---------------------------------------------------------------------------\u001b[0m",
            "\u001b[0;31mTypeError\u001b[0m                                 Traceback (most recent call last)",
            "\u001b[0;32m<ipython-input-79-a0123b7df930>\u001b[0m in \u001b[0;36m<cell line: 28>\u001b[0;34m()\u001b[0m\n\u001b[1;32m     26\u001b[0m \u001b[0;31m#문자열 시퀀스 아니냐 그럼 저거 다 될듯\u001b[0m\u001b[0;34m\u001b[0m\u001b[0;34m\u001b[0m\u001b[0m\n\u001b[1;32m     27\u001b[0m \u001b[0m인사\u001b[0m \u001b[0;34m=\u001b[0m \u001b[0;34m\"반가워\"\u001b[0m\u001b[0;34m\u001b[0m\u001b[0;34m\u001b[0m\u001b[0m\n\u001b[0;32m---> 28\u001b[0;31m \u001b[0m인사\u001b[0m\u001b[0;34m[\u001b[0m\u001b[0;36m2\u001b[0m\u001b[0;34m]\u001b[0m \u001b[0;34m=\u001b[0m \u001b[0;34m\"웡\"\u001b[0m\u001b[0;34m\u001b[0m\u001b[0;34m\u001b[0m\u001b[0m\n\u001b[0m\u001b[1;32m     29\u001b[0m \u001b[0mprint\u001b[0m\u001b[0;34m(\u001b[0m\u001b[0m인사\u001b[0m\u001b[0;34m)\u001b[0m\u001b[0;34m\u001b[0m\u001b[0;34m\u001b[0m\u001b[0m\n",
            "\u001b[0;31mTypeError\u001b[0m: 'str' object does not support item assignment"
          ]
        }
      ]
    },
    {
      "cell_type": "code",
      "source": [
        "print(dir(list))"
      ],
      "metadata": {
        "colab": {
          "base_uri": "https://localhost:8080/"
        },
        "id": "rY2rQGif-yZN",
        "outputId": "aec51775-9127-4b56-85ab-70243af44f90"
      },
      "execution_count": null,
      "outputs": [
        {
          "output_type": "stream",
          "name": "stdout",
          "text": [
            "['__add__', '__class__', '__class_getitem__', '__contains__', '__delattr__', '__delitem__', '__dir__', '__doc__', '__eq__', '__format__', '__ge__', '__getattribute__', '__getitem__', '__gt__', '__hash__', '__iadd__', '__imul__', '__init__', '__init_subclass__', '__iter__', '__le__', '__len__', '__lt__', '__mul__', '__ne__', '__new__', '__reduce__', '__reduce_ex__', '__repr__', '__reversed__', '__rmul__', '__setattr__', '__setitem__', '__sizeof__', '__str__', '__subclasshook__', 'append', 'clear', 'copy', 'count', 'extend', 'index', 'insert', 'pop', 'remove', 'reverse', 'sort']\n"
          ]
        }
      ]
    },
    {
      "cell_type": "code",
      "source": [
        "#\n",
        "print(mzfood)\n",
        "mzfood.reverse()\n",
        "print(mzfood)\n",
        "print(mzfood.reverse())\n",
        "mzfood.sort()\n",
        "print(mzfood)\n",
        "print(mzfood.sort())\n"
      ],
      "metadata": {
        "colab": {
          "base_uri": "https://localhost:8080/"
        },
        "id": "ObZZDagp-1Ws",
        "outputId": "410657c4-962c-4156-b742-c6a1f42d7d37"
      },
      "execution_count": null,
      "outputs": [
        {
          "output_type": "stream",
          "name": "stdout",
          "text": [
            "['닭고기', '마라', '분모자', '소시지', '숙주', '옥수수면']\n",
            "['옥수수면', '숙주', '소시지', '분모자', '마라', '닭고기']\n",
            "None\n",
            "['닭고기', '마라', '분모자', '소시지', '숙주', '옥수수면']\n",
            "None\n"
          ]
        }
      ]
    },
    {
      "cell_type": "code",
      "source": [
        "#리스트 까도까도 또 나오네?\n",
        "#2차원 리스트에 대해서도 공부하기\n",
        "양파같은 = [[2,0], [3,1]]\n",
        "print(양파같은)\n",
        "\n",
        "print(양파같은[0])\n",
        "print(양파같은[1])\n",
        "print(양파같은[1][0]) #3출력"
      ],
      "metadata": {
        "colab": {
          "base_uri": "https://localhost:8080/"
        },
        "id": "k5wS9EJ3_QoZ",
        "outputId": "a0ad02e6-ac8d-4039-fa45-7b9ccfe860ab"
      },
      "execution_count": null,
      "outputs": [
        {
          "output_type": "stream",
          "name": "stdout",
          "text": [
            "[[2, 0], [3, 1]]\n",
            "[2, 0]\n",
            "[3, 1]\n",
            "3\n"
          ]
        }
      ]
    },
    {
      "cell_type": "markdown",
      "source": [
        "##시퀀스 자료형\n",
        " * 문자열 :\n",
        "        * 시퀀스형에서 사용할 수 있는 메소드 (count(), index(), split() 등...)\n",
        "        * 슬라이싱 ([:] [::])\n",
        "        * 요소들로 이루어져 가능했던 기능들 (요소 합치기, 요소 찾기 등등)\n",
        " * list :\n",
        "        * 시퀀스형에서 사용할 수 있는 메소드(count(), index(), split() 등 ...)\n",
        "        * 슬라이싱 ([:],[::])\n",
        "        * 요소들로 이루어져 가능했던 기능들 (요소 합치기, 요소 찾기 등등)\n",
        "        * list 지원하는 다양한 메소드(append(), insert(), del, sort(), reverse())\n",
        "\n",
        " * tuple :\n",
        "          * 리스트처럼 요소를 일렬로 저장하지만 안에 저장된 요소를 변경, 추가, 삭제할 수 없다.\n",
        "          * 값을 추가, 삭제, 변경할 수 없기 때문에, 사용하지 못하는 메소드가 많다.\n",
        "          * tuple의 생성 방법은 tuple=값, 값 또는 tuple = (값, 값)\n",
        "          * 그리고 엄청난 비밀이 숨겨져있어요\n",
        "          * 튜플은 소괄호입니다.\n",
        "          "
      ],
      "metadata": {
        "id": "KUNsoZOoD1ni"
      }
    },
    {
      "cell_type": "code",
      "source": [
        " # 리스트 대괄호 [], 튜플은 소괄호 ()\n",
        " 튜플 = (1, \"이\", 3.0)\n",
        " print(type(튜플))\n",
        " print(튜플)\n",
        "\n",
        "#  리스트 = [1,\"이\", 3.0]\n",
        "#  print(type(리스트))\n",
        "#  print(리스트)\n",
        "\n",
        "튜플2 = 1,\"이\", 3.0\n",
        "print(type(튜플2))\n",
        "print(튜플2)\n",
        "\n",
        "# 하나의 값만 들어있는 튜플만 만들고 싶다면?\n",
        "튜플_솔로=(1, )\n",
        "print(type(튜플_솔로))\n",
        "print(튜플_솔로)\n",
        "\n",
        "튜플_나는솔로= (1)\n",
        "print(type(튜플_나는솔로))\n",
        "print(튜플_나는솔로)"
      ],
      "metadata": {
        "colab": {
          "base_uri": "https://localhost:8080/"
        },
        "id": "P0jUsbbOE3lJ",
        "outputId": "45cfc8cf-9497-463c-9781-2944e359c706"
      },
      "execution_count": null,
      "outputs": [
        {
          "output_type": "stream",
          "name": "stdout",
          "text": [
            "<class 'tuple'>\n",
            "(1, '이', 3.0)\n",
            "<class 'tuple'>\n",
            "(1, '이', 3.0)\n",
            "<class 'tuple'>\n",
            "(1,)\n",
            "<class 'int'>\n",
            "1\n"
          ]
        }
      ]
    },
    {
      "cell_type": "code",
      "source": [
        "# 값 추가, 삭제, 변경 불가 ... 진실일까?\n",
        "print(튜플)\n",
        "print(dir(튜플))\n",
        "\n",
        "튜플_리스트화=list(튜플)\n",
        "print(type(튜플_리스트화))"
      ],
      "metadata": {
        "colab": {
          "base_uri": "https://localhost:8080/"
        },
        "id": "70FUx6x9Fnfv",
        "outputId": "9245a5f8-8d87-43d6-e41b-99fc90c66878"
      },
      "execution_count": null,
      "outputs": [
        {
          "output_type": "stream",
          "name": "stdout",
          "text": [
            "(1, '이', 3.0)\n",
            "['__add__', '__class__', '__class_getitem__', '__contains__', '__delattr__', '__dir__', '__doc__', '__eq__', '__format__', '__ge__', '__getattribute__', '__getitem__', '__getnewargs__', '__gt__', '__hash__', '__init__', '__init_subclass__', '__iter__', '__le__', '__len__', '__lt__', '__mul__', '__ne__', '__new__', '__reduce__', '__reduce_ex__', '__repr__', '__rmul__', '__setattr__', '__sizeof__', '__str__', '__subclasshook__', 'count', 'index']\n",
            "<class 'list'>\n"
          ]
        }
      ]
    },
    {
      "cell_type": "code",
      "source": [
        "#정말로 값의 삽입, 삭제, 변경을 지원하지 않는지 확인\n",
        "# 튜플.append(\"듀리안\")\n",
        "# del 튜플[2]\n",
        "# 튜플[1]=\"너만 믿는다\"\n",
        "# print(튜플)\n"
      ],
      "metadata": {
        "colab": {
          "base_uri": "https://localhost:8080/",
          "height": 180
        },
        "id": "S7p6iPHbF4a_",
        "outputId": "087286ea-90d6-41ab-d5ea-805b04476ce7"
      },
      "execution_count": null,
      "outputs": [
        {
          "output_type": "error",
          "ename": "AttributeError",
          "evalue": "'tuple' object has no attribute 'append'",
          "traceback": [
            "\u001b[0;31m---------------------------------------------------------------------------\u001b[0m",
            "\u001b[0;31mAttributeError\u001b[0m                            Traceback (most recent call last)",
            "\u001b[0;32m<ipython-input-97-ef932cbc7491>\u001b[0m in \u001b[0;36m<cell line: 2>\u001b[0;34m()\u001b[0m\n\u001b[1;32m      1\u001b[0m \u001b[0;31m#정말로 값의 삽입, 삭제, 변경을 지원하지 않는지 확인\u001b[0m\u001b[0;34m\u001b[0m\u001b[0;34m\u001b[0m\u001b[0m\n\u001b[0;32m----> 2\u001b[0;31m \u001b[0m튜플\u001b[0m\u001b[0;34m.\u001b[0m\u001b[0mappend\u001b[0m\u001b[0;34m(\u001b[0m\u001b[0;34m\"듀리안\"\u001b[0m\u001b[0;34m)\u001b[0m\u001b[0;34m\u001b[0m\u001b[0;34m\u001b[0m\u001b[0m\n\u001b[0m\u001b[1;32m      3\u001b[0m \u001b[0mprint\u001b[0m\u001b[0;34m(\u001b[0m\u001b[0m튜플\u001b[0m\u001b[0;34m)\u001b[0m\u001b[0;34m\u001b[0m\u001b[0;34m\u001b[0m\u001b[0m\n",
            "\u001b[0;31mAttributeError\u001b[0m: 'tuple' object has no attribute 'append'"
          ]
        }
      ]
    },
    {
      "cell_type": "code",
      "source": [
        "#번외\n",
        "수강생 = \"중꺽그마\"\n",
        "수강생_list=list(수강생)\n",
        "수강생_tuple=tuple(수강생)\n",
        "\n",
        "print(수강생_list)\n",
        "print(수강생_tuple)\n",
        "\n",
        "수강생_list[1]=\"뿌\"\n",
        "print(수강생_list)\n",
        "\n",
        "#join함수 공부 알고 있으면 좋음\n",
        "취뽀_수강생 = \"\".join(수강생_list)\n",
        "print(취뽀_수강생)"
      ],
      "metadata": {
        "colab": {
          "base_uri": "https://localhost:8080/"
        },
        "id": "PFKqhLUgGPqV",
        "outputId": "f0191bd1-115c-4c4f-b193-a93003e005a5"
      },
      "execution_count": null,
      "outputs": [
        {
          "output_type": "stream",
          "name": "stdout",
          "text": [
            "['중', '꺽', '그', '마']\n",
            "('중', '꺽', '그', '마')\n",
            "['중', '뿌', '그', '마']\n",
            "중뿌그마\n"
          ]
        }
      ]
    },
    {
      "cell_type": "code",
      "source": [
        "# 공통점 뭔가요?\n",
        "print(튜플)\n",
        "#길이를 구할 수 있어요\n",
        "len(튜플)\n",
        "#곱하기 연산으로 요소를 복사할 수 있어요\n",
        "튜플*3\n",
        "print(튜플*3)\n",
        "#튜플은 요소들끼리 더할 수 있다\n",
        "print(튜플+튜플)\n",
        "#튜플은 인덱싱이 가능하다\n",
        "print(튜플[2])\n",
        "#튜플의 인덱스\n",
        "튜플.index(3.0)\n",
        "print(튜플.index(3.0))\n",
        "#튜플 요소의 개수\n",
        "print(튜플.count(1))\n",
        "#튜플도 슬라이싱이 가능하다\n",
        "print(튜플[1:3])"
      ],
      "metadata": {
        "colab": {
          "base_uri": "https://localhost:8080/"
        },
        "id": "TFgxdT34G4Ks",
        "outputId": "4df381ee-35df-4f8b-9b8c-7902c38c5c05"
      },
      "execution_count": null,
      "outputs": [
        {
          "output_type": "stream",
          "name": "stdout",
          "text": [
            "(1, '이', 3.0)\n",
            "(1, '이', 3.0, 1, '이', 3.0, 1, '이', 3.0)\n",
            "(1, '이', 3.0, 1, '이', 3.0)\n",
            "3.0\n",
            "2\n",
            "1\n",
            "('이', 3.0)\n"
          ]
        }
      ]
    },
    {
      "cell_type": "markdown",
      "source": [
        "#tuple 왜 쓸까요?\n",
        "\n",
        "1. 3GO가 불가하기 때문입니다. ( 넣고 , 삭제하고, 바꾸고) 무슨 소리GO\n",
        "\n",
        "    여러명이 코딩을 하는 경우 변경되면 안되는 변수를 건드리는 경우\n",
        "    또는 값이 변경되면 안되는 중요한 데이터를 넣어서 보안적으로 관리하기에 좋다(은행계좌, 비밀번호 등등...)\n",
        "\n",
        "2. list는 tuple보다 무겁다\n",
        "\n",
        "    단지 기능이 많아서 무거운걸까요?\n",
        "    \n",
        "    파이썬은 동적배열을 지원합니다.\n",
        "    -list = [1,2,3,4] 생성해서 4개에 값을 모두 넣었습니다.\n",
        "    -문제는 그 다음 값을 추가할 때 이미 공간이 다 찼기 때문에\n",
        "      추가 할당을 진행합니다.\n",
        "      추가 할당 시 메모리 크기는 4, 8, 16, 25 ... 더블링을 해줍니다.\n",
        "\n",
        "3. list는 가변이고 tuple은 불변이다\n",
        "\n",
        "    값이 고정되어야 하거나 크기가 작을 경우 튜플을 권장한다.\n",
        "\n"
      ],
      "metadata": {
        "id": "qPy5UB4tHrOQ"
      }
    },
    {
      "cell_type": "markdown",
      "source": [
        "* 가변객체와, 불변객체(우리 이미 다 써봄)\n",
        "* 파이썬 리스트의 동적배열\n",
        "* 이왕 이렇게된 거 자료구조 책을 한 번 사보는 것도 추천(파이썬 클린코드)"
      ],
      "metadata": {
        "id": "_He4q0teIvVE"
      }
    },
    {
      "cell_type": "markdown",
      "source": [
        "##시퀀스 자료형\n",
        " * 문자열 :\n",
        "        * 시퀀스형에서 사용할 수 있는 메소드 (count(), index(), split() 등...)\n",
        "        * 슬라이싱 ([:] [::])\n",
        "        * 요소들로 이루어져 가능했던 기능들 (요소 합치기, 요소 찾기 등등)\n",
        " * list :\n",
        "        * 시퀀스형에서 사용할 수 있는 메소드(count(), index(), split() 등 ...)\n",
        "        * 슬라이싱 ([:],[::])\n",
        "        * 요소들로 이루어져 가능했던 기능들 (요소 합치기, 요소 찾기 등등)\n",
        "        * list 지원하는 다양한 메소드(append(), insert(), del, sort(), reverse())\n",
        "\n",
        " * tuple :\n",
        "          * 리스트처럼 요소를 일렬로 저장하지만 안에 저장된 요소를 변경, 추가, 삭제할 수 없다.\n",
        "          * 값을 추가, 삭제, 변경할 수 없기 때문에, 사용하지 못하는 메소드가 많다.\n",
        "          * tuple의 생성 방법은 tuple=값, 값 또는 tuple = (값, 값)\n",
        "          * 그리고 엄청난 비밀이 숨겨져있어요\n",
        "          * 튜플은 소괄호입니다.\n",
        "\n",
        " * dict(딕셔너리)\n",
        "          * list, tuple, str, range(범위 안에 연속된 데이터를 만드는 시퀀스였습니다.)\n",
        "          공통적인 특징이 있어요. 데이터의 연관성은 없습니다.\n",
        "          * dict는 여러개의 값이 일렬로 정렬되면서도 값끼리의 연관성이 존재\n",
        "          (예시 : 게임 캐릭터 힘:30,지능:20,체력:40,민첩:90)\n",
        "          * dict 생성방법은 중괄호입니다."
      ],
      "metadata": {
        "id": "3TptfsjbMLPm"
      }
    },
    {
      "cell_type": "code",
      "source": [
        "#list[], tuple(), dict{}\n",
        "짱짱맨={\"힘\":30,\"지능\":20,\"체력\":40,\"민첩\":90}\n",
        "print(짱짱맨)\n",
        "\n",
        "#{키 : 값}\n",
        "#{key1:value1, key2:value2}\n",
        "\n",
        "#시퀀스 데이터는 인덱싱을 이용해 데이터를 찾았습니다.\n",
        "\n",
        "#짱짱맨[1]\n",
        "print(짱짱맨[\"힘\"])\n",
        "print(f'짱짱맨님은 힘이 {짱짱맨[\"힘\"]}입니다.')"
      ],
      "metadata": {
        "colab": {
          "base_uri": "https://localhost:8080/"
        },
        "id": "Cxs-To2QMo2F",
        "outputId": "aeb72e40-83cf-46f3-f311-2147cb270ebd"
      },
      "execution_count": null,
      "outputs": [
        {
          "output_type": "stream",
          "name": "stdout",
          "text": [
            "{'힘': 30, '지능': 20, '체력': 40, '민첩': 90}\n",
            "30\n",
            "짱짱맨님은 힘이 30입니다.\n"
          ]
        }
      ]
    },
    {
      "cell_type": "code",
      "source": [
        "# 딕셔너리를 만드는 다양한 방법\n",
        "\n",
        "#빈 딕셔너리 만들기\n",
        "딕셔너리={}\n",
        "print(딕셔너리)\n",
        "\n",
        "딕셔너리2=dict()\n",
        "print(딕셔너리2)\n",
        "\n",
        "#값을 넣어 만드는 방법\n",
        "#dict()로 생성 시 값 넣는 기호 \"\", : 주의해주세요\n",
        "\n",
        "딕셔너리3=dict(힘=30, 지능=20, 체력=40, 민첩=90)\n",
        "print(딕셔너리3)\n",
        "\n",
        "#zip(): 병렬처리를 도와줍니다\n",
        "딕셔너리4=dict(zip([\"힘\",\"지능\",\"체력\",\"민첩\"], [30,20,40,90]))\n",
        "print(딕셔너리4)\n",
        "\n",
        "\n"
      ],
      "metadata": {
        "colab": {
          "base_uri": "https://localhost:8080/"
        },
        "id": "rclK648UNWgO",
        "outputId": "12c1fff6-0fb4-4269-99e4-ff0f7d2d02f2"
      },
      "execution_count": null,
      "outputs": [
        {
          "output_type": "stream",
          "name": "stdout",
          "text": [
            "{}\n",
            "{}\n",
            "{'힘': 30, '지능': 20, '체력': 40, '민첩': 90}\n",
            "{'힘': 30, '지능': 20, '체력': 40, '민첩': 90}\n"
          ]
        }
      ]
    },
    {
      "cell_type": "code",
      "source": [
        "# 값의 중복은 허락되는데, 키의 중복은 허락하지 않습니다.\n",
        "\n",
        "짱짱맨={\"힘\":30,\"지능\":20,\"체력\":40,\"민첩\":90, \"힘\":1000, \"지구력\":90}\n",
        "print(짱짱맨)\n",
        "\n",
        "print(\"체력\" in 짱짱맨)"
      ],
      "metadata": {
        "colab": {
          "base_uri": "https://localhost:8080/"
        },
        "id": "unExt0NhOdHj",
        "outputId": "94aa6270-3448-4f5f-9ed5-5bb1bdaa6c3e"
      },
      "execution_count": null,
      "outputs": [
        {
          "output_type": "stream",
          "name": "stdout",
          "text": [
            "{'힘': 1000, '지능': 20, '체력': 40, '민첩': 90, '지구력': 90}\n",
            "True\n"
          ]
        }
      ]
    },
    {
      "cell_type": "code",
      "source": [
        "#딕셔너리에 다양한 메소드\n",
        "\n",
        "print(짱짱맨.keys())\n",
        "print(짱짱맨.values())\n",
        "\n",
        "print(짱짱맨.items())\n",
        "print(type(짱짱맨.items()))\n",
        "\n",
        "리스트화된_짱짱맨 = list(짱짱맨.items())\n",
        "print(리스트화된_짱짱맨[0][1])"
      ],
      "metadata": {
        "colab": {
          "base_uri": "https://localhost:8080/"
        },
        "id": "PuocQRQZO8tm",
        "outputId": "b299066e-8ba8-458c-8520-875bfe1e48f6"
      },
      "execution_count": null,
      "outputs": [
        {
          "output_type": "stream",
          "name": "stdout",
          "text": [
            "dict_keys(['힘', '지능', '체력', '민첩', '지구력'])\n",
            "dict_values([1000, 20, 40, 90, 90])\n",
            "dict_items([('힘', 1000), ('지능', 20), ('체력', 40), ('민첩', 90), ('지구력', 90)])\n",
            "<class 'dict_items'>\n",
            "1000\n"
          ]
        }
      ]
    },
    {
      "cell_type": "code",
      "source": [
        "#딕셔너리 값 추가, 삭제, 변경\n",
        "\n",
        "짱짱맨={\"힘\":30,\"지능\":20,\"체력\":40,\"민첩\":90, \"힘\":1000, \"지구력\":90}\n",
        "del 짱짱맨[\"지구력\"]\n",
        "print(짱짱맨)\n",
        "\n",
        "#딕셔너리 값 변경\n",
        "짱짱맨[\"지능\"]=100\n",
        "print(짱짱맨)\n",
        "\n",
        "#딕셔너리 값 추가\n",
        "짱짱맨.update({\"손재주\":44, \"매력\":100})\n",
        "print(짱짱맨)"
      ],
      "metadata": {
        "colab": {
          "base_uri": "https://localhost:8080/"
        },
        "id": "s_QcRBgyPhZ3",
        "outputId": "52f02324-b96f-4d51-eed1-8316cf4c51c9"
      },
      "execution_count": null,
      "outputs": [
        {
          "output_type": "stream",
          "name": "stdout",
          "text": [
            "{'힘': 1000, '지능': 20, '체력': 40, '민첩': 90}\n",
            "{'힘': 1000, '지능': 100, '체력': 40, '민첩': 90}\n",
            "{'힘': 1000, '지능': 100, '체력': 40, '민첩': 90, '손재주': 44, '매력': 100}\n"
          ]
        }
      ]
    },
    {
      "cell_type": "code",
      "source": [
        "코디 = {\n",
        "    \"모자\" : {\n",
        "        \"캡\" : \"발렌시아\",\n",
        "        \"비니\" : \"셀린느\"\n",
        "    },\n",
        "    \"상의\" : {\n",
        "        \"후드티\" : \"칼하트\",\n",
        "        \"맨투맨\" : \"슈프림\"\n",
        "    }\n",
        "}\n",
        "\n",
        "print(코디)\n",
        "print(코디[\"모자\"])\n",
        "print(코디[\"모자\"][\"캡\"])"
      ],
      "metadata": {
        "colab": {
          "base_uri": "https://localhost:8080/"
        },
        "id": "z1MajNEPQOBm",
        "outputId": "dabc64b9-c0a6-4b2a-db9d-2d4b2331d60a"
      },
      "execution_count": null,
      "outputs": [
        {
          "output_type": "stream",
          "name": "stdout",
          "text": [
            "{'모자': {'캡': '발렌시아', '비니': '셀린느'}, '상의': {'후드티': '칼하트', '맨투맨': '슈프림'}}\n",
            "{'캡': '발렌시아', '비니': '셀린느'}\n",
            "발렌시아\n"
          ]
        }
      ]
    },
    {
      "cell_type": "code",
      "source": [
        "#레거시: 누군가 남겨두고간 코드\n",
        "#리팩토링: 결과의 변경없이 코드의 구조를 재조정하는 것\n",
        "# dict 이력서를 작성했어요. 붕어빵인터내셔널 채용공고 열정만 있으면 오세요\n",
        "#아무도 없이 코드만 있어요 레거시\n",
        "#리팩토링 해달라고 합니다.\n",
        "\n",
        "fish__p, fish__s, fish__j =\"붕어빵(팥)\", \"붕어빵(슈크림)\", \"붕어빵(잡채)\"\n",
        "fish__p, fish__s, fish__j = input('붕어빵(팥), 붕어빵(슈크림), 붕어빵(잡채)를 순서대로 입력하고 꼭 쉼표를 입력하고 안사는 붕어빵에는 0을 넣어줘').split(\",\")\n",
        "fish__p__sell, fish__s__sell, fish__j__sell = 2000, 2500, 3000\n",
        "order_s, order_j = 2, 3\n",
        "order_s__pay, order_j__pay= fish__s__sell*2, fish__j__sell*3\n",
        "total=order_s+order_j\n",
        "total_pay= order_s__pay + order_j__pay\n",
        "print(f'주문이 완료되었습니다. {fish__s}{order_s}개, {fish__j}{order_j}개 총 {total}개 결제 금액은 {total_pay}원 입니다.')"
      ],
      "metadata": {
        "id": "j5nXps4gRD4b"
      },
      "execution_count": null,
      "outputs": []
    },
    {
      "cell_type": "code",
      "source": [
        "주문_개수 = map(int, input(f'붕어빵 맛 순서대로 개수를 입력해주세요. 안살꺼면 0 입력(팥, 슈크림, 잡채)').split(','))\n",
        "\n",
        "품목별_가격 = {\"팥\": 2000, \"슈크림\":2500, \"잡채\":3000}\n",
        "#딕셔너리는 순서가 없어 인덱싱으로 접근 불가\n",
        "\n",
        "주문_개수 =list(주문_개수)\n",
        "총_주문_개수 = sum(주문_개수)\n",
        "total=0\n",
        "\n",
        "total += 품목별_가격[\"팥\"]*주문_개수[0]\n",
        "total += 품목별_가격[\"슈크림\"]*주문_개수[1]\n",
        "total += 품목별_가격[\"잡채\"]*주문_개수[2]\n",
        "\n",
        "print(f'주문이 완료되었습니다. 팥{주문_개수[0]}개, 슈크림{주문_개수[1]}개, 잡채{주문_개수[2]}개 총 {총_주문_개수}개 결제 금액은 {total}원 입니다.')"
      ],
      "metadata": {
        "colab": {
          "base_uri": "https://localhost:8080/"
        },
        "id": "5gcVV9jTRWJw",
        "outputId": "d60ce935-34bc-4220-ba24-cff187dd1d7a"
      },
      "execution_count": null,
      "outputs": [
        {
          "output_type": "stream",
          "name": "stdout",
          "text": [
            "붕어빵 맛 순서대로 개수를 입력해주세요. 안살꺼면 0 입력(팥, 슈크림, 잡채)2,3,0\n",
            "주문이 완료되었습니다. 팥2개, 슈크림3개, 잡채0개 총 5개 결제 금액은 11500원 입니다.\n"
          ]
        }
      ]
    },
    {
      "cell_type": "markdown",
      "source": [
        "##시퀀스 자료형\n",
        " * 문자열 :\n",
        "        * 시퀀스형에서 사용할 수 있는 메소드 (count(), index(), split() 등...)\n",
        "        * 슬라이싱 ([:] [::])\n",
        "        * 요소들로 이루어져 가능했던 기능들 (요소 합치기, 요소 찾기 등등)\n",
        " * list :\n",
        "        * 시퀀스형에서 사용할 수 있는 메소드(count(), index(), split() 등 ...)\n",
        "        * 슬라이싱 ([:],[::])\n",
        "        * 요소들로 이루어져 가능했던 기능들 (요소 합치기, 요소 찾기 등등)\n",
        "        * list 지원하는 다양한 메소드(append(), insert(), del, sort(), reverse())\n",
        "\n",
        " * tuple :\n",
        "          * 리스트처럼 요소를 일렬로 저장하지만 안에 저장된 요소를 변경, 추가, 삭제할 수 없다.\n",
        "          * 값을 추가, 삭제, 변경할 수 없기 때문에, 사용하지 못하는 메소드가 많다.\n",
        "          * tuple의 생성 방법은 tuple=값, 값 또는 tuple = (값, 값)\n",
        "          * 그리고 엄청난 비밀이 숨겨져있어요\n",
        "          * 튜플은 소괄호입니다.\n",
        "\n",
        " * dict(딕셔너리)\n",
        "          * list, tuple, str, range(범위 안에 연속된 데이터를 만드는 시퀀스였습니다.)\n",
        "          공통적인 특징이 있어요. 데이터의 연관성은 없습니다.\n",
        "          * dict는 여러개의 값이 일렬로 정렬되면서도 값끼리의 연관성이 존재\n",
        "          (예시 : 게임 캐릭터 힘:30,지능:20,체력:40,민첩:90)\n",
        "          * dict 생성방법은 중괄호입니다.\n",
        "\n",
        " * set\n",
        "          * set은 수학의 집합을 의미합니다.\n",
        "          * 딕셔너리와 같은 순서가 없습니다.\n",
        "          * 값의 중복을 허락하지 않습니다. 아주 중요합니다.\n",
        "          * set 생성 방법도 중괄호"
      ],
      "metadata": {
        "id": "j17qr94uG1Py"
      }
    },
    {
      "cell_type": "code",
      "source": [
        "채소 = {\"당근\",\"배추\",\"대파\",\"양파\"}\n",
        "type(채소)\n",
        "print(채소)\n",
        "\n",
        "# 순서가 없고, 출력하면 요소가 다르게 나오는 것도 특징입니다.\n",
        "\n",
        "# 세트를 만드는 다양한 방법\n",
        "세트=set()\n",
        "세트\n",
        "세트2={}\n",
        "세트2"
      ],
      "metadata": {
        "colab": {
          "base_uri": "https://localhost:8080/"
        },
        "id": "GWlj2RiSHOyo",
        "outputId": "e54aa35f-080f-459f-a82b-5039cca41238"
      },
      "execution_count": null,
      "outputs": [
        {
          "output_type": "stream",
          "name": "stdout",
          "text": [
            "{'당근', '배추', '대파', '양파'}\n"
          ]
        },
        {
          "output_type": "execute_result",
          "data": {
            "text/plain": [
              "{}"
            ]
          },
          "metadata": {},
          "execution_count": 2
        }
      ]
    },
    {
      "cell_type": "code",
      "source": [
        "#중복을 제일 싫어하는 set\n",
        "\n",
        "사과_리스트 = list(\"apple\")\n",
        "print(사과_리스트)\n",
        "사과_튜플 = tuple(\"apple\")\n",
        "print(사과_튜플)\n",
        "사과_set= set(\"apple\")\n",
        "print(사과_set)"
      ],
      "metadata": {
        "colab": {
          "base_uri": "https://localhost:8080/"
        },
        "id": "7be-zqoIHtA8",
        "outputId": "9000eeeb-d9dc-404b-d7fb-b69a2e9828ac"
      },
      "execution_count": null,
      "outputs": [
        {
          "output_type": "stream",
          "name": "stdout",
          "text": [
            "['a', 'p', 'p', 'l', 'e']\n",
            "('a', 'p', 'p', 'l', 'e')\n",
            "{'l', 'e', 'p', 'a'}\n"
          ]
        }
      ]
    },
    {
      "cell_type": "code",
      "source": [
        "# set() 자료형의 데이터 추가, 삭제, 변경\n",
        "채소\n",
        "\n",
        "# set() 함수의 데이터 삽입\n",
        "채소.add(\"토마토\")\n",
        "print(채소)\n",
        "\n",
        "채소.update(\"깻잎\")\n",
        "print(채소)\n",
        "\n",
        "#set()함수의 데이터 삭제\n",
        "채소.remove(\"잎\")\n",
        "print(채소)\n",
        "#채소.remove(\"잎\") 없애고 또 없애면 안됨\n",
        "\n",
        "#없애도 .discard는 가능\n",
        "채소.discard(\"깻\")\n",
        "print(채소)\n",
        "\n",
        "채소.pop()\n",
        "print(채소)"
      ],
      "metadata": {
        "colab": {
          "base_uri": "https://localhost:8080/"
        },
        "id": "cpTEE8frLk3S",
        "outputId": "f0f956cd-e091-4345-83af-77c39ad9525f"
      },
      "execution_count": null,
      "outputs": [
        {
          "output_type": "stream",
          "name": "stdout",
          "text": [
            "{'당근', '대파', '양파', '토마토', '배추'}\n",
            "{'당근', '대파', '양파', '잎', '토마토', '배추', '깻'}\n",
            "{'당근', '대파', '양파', '토마토', '배추', '깻'}\n",
            "{'당근', '대파', '양파', '토마토', '배추'}\n",
            "{'대파', '양파', '토마토', '배추'}\n"
          ]
        }
      ]
    },
    {
      "cell_type": "code",
      "source": [
        "채소 = {\"당근\", \"배추\", \"대파\", \"양파\"}\n",
        "반환된_채소=채소.pop()\n",
        "print(f\"{반환된_채소}은 내다버린 채소입니다.\")"
      ],
      "metadata": {
        "colab": {
          "base_uri": "https://localhost:8080/"
        },
        "id": "k_rh5tylMn86",
        "outputId": "ebd770a9-466f-4e33-9ee3-02c226bf629b"
      },
      "execution_count": null,
      "outputs": [
        {
          "output_type": "stream",
          "name": "stdout",
          "text": [
            "당근은 내다버린 채소입니다.\n"
          ]
        }
      ]
    },
    {
      "cell_type": "code",
      "source": [
        "#set= 집합, 합집합, 교집합, 차집합 등등\n",
        "#대표적으로 합집합, 교집합, 차집합\n",
        "\n",
        "채소1 = {\"당근\", \"양파\", \"오이\", \"배추\"}\n",
        "채소2 = {\"양파\", \"오이\", \"대파\", \"가지\"}\n",
        "\n",
        "#합집합(union)\n",
        "채소1 | 채소2\n",
        "print(set.union(채소1, 채소2))\n",
        "\n",
        "#교집합(intersection)\n",
        "채소1 & 채소2\n",
        "print(set.intersection(채소1, 채소2))\n",
        "\n",
        "#차집합(difference)\n",
        "채소1-채소2\n",
        "print(set.difference(채소1,채소2))\n",
        "\n"
      ],
      "metadata": {
        "colab": {
          "base_uri": "https://localhost:8080/"
        },
        "id": "7eEeNGEKM4Ds",
        "outputId": "b89eaf22-56f2-471e-fc8f-38ca78ed07ec"
      },
      "execution_count": null,
      "outputs": [
        {
          "output_type": "stream",
          "name": "stdout",
          "text": [
            "{'당근', '대파', '양파', '가지', '오이', '배추'}\n",
            "{'오이', '양파'}\n",
            "{'당근', '배추'}\n"
          ]
        }
      ]
    }
  ]
}